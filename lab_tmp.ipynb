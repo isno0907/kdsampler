{
 "cells": [
  {
   "cell_type": "code",
   "execution_count": 1,
   "metadata": {},
   "outputs": [
    {
     "name": "stdout",
     "output_type": "stream",
     "text": [
      "load checkpoint from local path: modelzoo/timesformer_6x43x1_minik.pth\n"
     ]
    }
   ],
   "source": [
    "#timesformer model\n",
    "\n",
    "import os.path as osp\n",
    "import pickle\n",
    "import shutil\n",
    "import tempfile\n",
    "\n",
    "import mmcv\n",
    "import torch\n",
    "import torch.distributed as dist\n",
    "from mmcv.runner import get_dist_info\n",
    "import mmcv\n",
    "import torch\n",
    "from mmcv import Config, DictAction\n",
    "from mmcv.cnn import fuse_conv_bn\n",
    "from mmcv.fileio.io import file_handlers\n",
    "from mmcv.parallel import MMDataParallel, MMDistributedDataParallel\n",
    "from mmcv.runner import get_dist_info, init_dist, load_checkpoint\n",
    "from mmcv.runner.fp16_utils import wrap_fp16_model\n",
    "\n",
    "#from mmaction.apis import multi_gpu_test, single_gpu_test\n",
    "from mmaction.apis import multi_gpu_test \n",
    "from mmaction.datasets import build_dataloader, build_dataset\n",
    "from mmaction.models import build_model\n",
    "from mmaction.utils import register_module_hooks\n",
    "import time\n",
    "from tqdm import tqdm\n",
    "from itertools import combinations\n",
    "from mmaction.models.recognizers import GumbelSampler2DRecognizer2D, Sampler2DRecognizer2D, Sampler2DRecognizer3D\n",
    "from mmaction.models.backbones import MobileNetV2TSM, ResNet, MobileNetV2\n",
    "from mmaction.models.backbones.mobilenet_v2 import InvertedResidual\n",
    "from mmaction.models.heads import TSMHead\n",
    "from mmaction.models import build_model\n",
    "from mmaction.datasets import build_dataset, build_dataloader\n",
    "from mmcv.runner import get_dist_info, init_dist, load_checkpoint\n",
    "import torch\n",
    "from tqdm import tqdm\n",
    "from mmaction.core.evaluation.accuracy import top_k_accuracy, mean_average_precision\n",
    "from einops import rearrange\n",
    "\n",
    "\n",
    "\n",
    "# config = \"configs/anet_timesformer_uniform10.py\"\n",
    "# checkpoint = \"modelzoo/timesformer_6x100x1_anet.pth\"\n",
    "\n",
    "config = \"configs/minik_timesformer_uniform10.py\"\n",
    "checkpoint = \"modelzoo/timesformer_6x43x1_minik.pth\"\n",
    "\n",
    "# config = \"configs/single_anet_timesformer_6x100x1.py\"\n",
    "# checkpoint = \"modelzoo/timesformer_6x100x1_anet.pth\"\n",
    "\n",
    "cfg = Config.fromfile(config)\n",
    "\n",
    "dataset = build_dataset(cfg.data.test, dict(test_mode=True))\n",
    "# dataset = build_dataset(cfg.data.train, dict(test_mode=True))\n",
    "dataloader_setting = dict(\n",
    "    videos_per_gpu=cfg.data.get('videos_per_gpu', 1),\n",
    "    workers_per_gpu=cfg.data.get('workers_per_gpu', 1),\n",
    "    dist=False,\n",
    "    shuffle=False)\n",
    "dataloader_setting = dict(dataloader_setting,\n",
    "                            **cfg.data.get('test_dataloader', {}))\n",
    "data_loader = build_dataloader(dataset, **dataloader_setting)\n",
    "\n",
    "model = build_model(\n",
    "        cfg.model, train_cfg=None, test_cfg=cfg.get('test_cfg'))\n",
    "load_checkpoint(model, checkpoint, map_location='cpu')\n",
    "model = model.cuda()"
   ]
  },
  {
   "cell_type": "code",
   "execution_count": 2,
   "metadata": {},
   "outputs": [],
   "source": [
    "def single_gpu_test(model, data_loader, mode='score1frame'):\n",
    "    \"\"\"Test model with a single gpu.\n",
    "\n",
    "    This method tests model with a single gpu and displays test progress bar.\n",
    "\n",
    "    Args:\n",
    "        model (nn.Module): Model to be tested.\n",
    "        data_loader (nn.Dataloader): Pytorch data loader.\n",
    "\n",
    "    Returns:\n",
    "        list: The prediction results.\n",
    "    \"\"\"\n",
    "    print(\"############################################################\")\n",
    "    results = []\n",
    "    sampled_indice = []\n",
    "    rconfs = []\n",
    "    wconfs = []\n",
    "    dataset = data_loader.dataset\n",
    "    prog_bar = mmcv.ProgressBar(len(dataset))  \n",
    "    start = time.time()\n",
    "    total_seg = 10\n",
    "    perm_num = 6\n",
    "    perms = torch.tensor(list(combinations([i for i in range(total_seg)],perm_num)))\n",
    "    softmax = True\n",
    "    for data in data_loader:\n",
    "        end = time.time()\n",
    "        # print(f\"Get data {end - start:.5f} sec\")\n",
    "        model.eval()\n",
    "        with torch.no_grad():\n",
    "            imgs, labels = data['imgs'], data['label'].squeeze()\n",
    "            imgs, labels = imgs.cuda(), labels.cuda()\n",
    "            # print(f\"labels = {labels}\")           \n",
    "\n",
    "            if mode == 'two':\n",
    "                B, T, C, H, W = imgs.shape\n",
    "                imgs = imgs.reshape(B*T, C, H, W)\n",
    "                feats = model.extract_feat(imgs)\n",
    "                logits = model.cls_head(feats, 1)\n",
    "                logits = logits.reshape(B, T, -1)\n",
    "                # print(f\"labels = {labels}\")\n",
    "                label_logits = logits[range(B), :, labels.squeeze()]\n",
    "                max_idx = label_logits.max(-1)[1]\n",
    "                logits = logits[range(B), max_idx]\n",
    "                result = logits.detach().cpu().numpy()\n",
    "\n",
    "                # for i in range(num_segs):\n",
    "                #     logits = model.cls_head(feats[i:i+1], 1)\n",
    "                #     if logits.softmax(-1)[:,labels.bool()] > result:\n",
    "                #         result = logits\n",
    "\n",
    "                    # print(result)\n",
    "            elif mode == 'original':\n",
    "                B, N, C, T, H, W = imgs.shape\n",
    "                imgs = imgs.reshape(B, C, T, H, W)\n",
    "                x = model.extract_feat(imgs)\n",
    "                logits = model.cls_head(x)\n",
    "                result = logits.detach().cpu().numpy()\n",
    "            elif mode == 'bruteforce':\n",
    "                B, N, C, T, H, W = imgs.shape\n",
    "                imgs = rearrange(imgs, 'b n c t h w -> (b n) c t h w')\n",
    "                perm_logits = []\n",
    "                score = torch.zeros([B, total_seg]).cuda()\n",
    "                # best = torch.ones([B]).cuda() * -100\n",
    "                for perm in perms:\n",
    "                    indice = torch.tensor([1 if i in perm else 0 for i in range(total_seg)]).bool()\n",
    "                    x = model.cls_head(model.extract_feat(imgs[:,:,indice]))\n",
    "                    if softmax:\n",
    "                        x = x.softmax(-1)\n",
    "                    perm_logits.append(x) # B num_classes\n",
    "                perm_logits = torch.stack(perm_logits, 1) # B len(perms) C\n",
    "                label_logits = perm_logits[range(B), :, labels.squeeze()]\n",
    "                max_idx = label_logits.max(-1)[1]\n",
    "                sampled_indice.extend(perms[max_idx].detach().cpu().numpy())\n",
    "                result = perm_logits[range(B), max_idx, :]\n",
    "                result = result.detach().cpu().numpy()\n",
    "            elif mode == 'score2frame':\n",
    "                B, N, C, T, H, W = imgs.shape\n",
    "                perm_imgs = []\n",
    "                score = torch.zeros([B, total_seg]).cuda()\n",
    "                for perm in perms:\n",
    "                    indice = torch.tensor([1 if i in perm else 0 for i in range(total_seg)]).bool()\n",
    "                    perm_imgs.append(imgs[:,:,:,indice])\n",
    "                perm_imgs = torch.stack(perm_imgs, 1)\n",
    "                perm_imgs = rearrange(perm_imgs, 'b p n c t h w -> (b p n) c t h w')\n",
    "                x = model.extract_feat(perm_imgs)\n",
    "                logits = model.cls_head(x) # B*len(perms) num_classes\n",
    "                if softmax:\n",
    "                    logits = logits.softmax(-1)\n",
    "                logits = rearrange(logits, '(b p) n -> b p n', b = B, p = len(perms)) # B len(perms) num_classes\n",
    "                label_logits = logits[range(B), :, labels.squeeze()]\n",
    "                # for i in range(len(perms)):\n",
    "                #     for j in range(len(perms[i])):\n",
    "                #         score[:, perms[i][j]] += label_logits[:, i]\n",
    "                total_score = label_logits.sum(-1)\n",
    "                tmp = torch.zeros_like(total_score)\n",
    "                for i in range(total_seg):\n",
    "                    for j in range(len(perms)):\n",
    "                        if i in perms[j]:\n",
    "                            tmp += label_logits[:, j]\n",
    "                    score[:, i] = total_score - tmp\n",
    "                max_idx = score.topk(6, dim=1)[1].sort(dim=1,descending=False)[0]\n",
    "                batch_inds = torch.arange(B).unsqueeze(-1).expand_as(max_idx)\n",
    "                imgs = rearrange(imgs, 'b n c t h w -> (b n) t c h w')\n",
    "                sampled_imgs = imgs[batch_inds, max_idx]\n",
    "                sampled_imgs = rearrange(sampled_imgs, 'b t c h w -> b c t h w')\n",
    "                fx = model.extract_feat(sampled_imgs)\n",
    "                flogits = model.cls_head(fx)\n",
    "                result = flogits.detach().cpu().numpy()\n",
    "            elif mode == 'score1frame':\n",
    "                B, N, C, T, H, W = imgs.shape\n",
    "                imgs = rearrange(imgs, 'b n c t h w -> (b n t) c h w')\n",
    "                # imgs = imgs.reshape(B * T, C, H, W) # B*T C H W\n",
    "                x = model.extract_feat(imgs.unsqueeze(2))\n",
    "                logits = model.cls_head(x) # B*T num_classes\n",
    "                if softmax:\n",
    "                    logits = logits.softmax(-1)\n",
    "\n",
    "                dlabels = labels.clone().unsqueeze(1).repeat(1,total_seg).flatten()\n",
    "                y_hat = logits.argmax(-1)\n",
    "                # rconf = logits[y_hat == dlabels]\n",
    "                # wconf = logits[y_hat != dlabels]\n",
    "                # rtmp = dlabels[y_hat == dlabels]\n",
    "                # wtmp = dlabels[y_hat != dlabels]\n",
    "                # rconfs.extend(rconf[range(rtmp.shape[0]),rtmp])\n",
    "                # wconfs.extend(wconf[range(wtmp.shape[0]),wtmp])\n",
    "\n",
    "                logits = logits.reshape(B, T, -1)                    \n",
    "                label_logits = logits[range(B), :, labels.squeeze()]\n",
    "                # rconfs.extend(label_logits)\n",
    "\n",
    "                max_idx = label_logits.topk(6, dim=1)[1].sort(dim=1,descending=False)[0]\n",
    "                # rconf, max_idx = label_logits.topk(6, dim=1)\n",
    "                # max_idx = max_idx.sort(dim=1,descending=False)[0]\n",
    "                # rconfs.extend(rconf)\n",
    "\n",
    "                batch_inds = torch.arange(B).unsqueeze(-1).expand_as(max_idx)\n",
    "                imgs = rearrange(imgs, '(b t) c h w -> b t c h w', b=B, t=T)\n",
    "                sampled_imgs = imgs[batch_inds, max_idx]\n",
    "                sampled_imgs = rearrange(sampled_imgs, 'b t c h w -> b c t h w')\n",
    "\n",
    "                fx = model.extract_feat(sampled_imgs)\n",
    "                flogits = model.cls_head(fx)\n",
    "                result = flogits.detach().cpu().numpy()\n",
    "                sampled_indice.extend(max_idx.detach().cpu().numpy())\n",
    "                # max_idx = label_logits.max(-1)[1]\n",
    "                # result = logits[range(B), max_idx, :]\n",
    "                # result = result.detach().cpu().numpy()\n",
    "            elif mode == 'entropy':\n",
    "                B, N, C, T, H, W = imgs.shape\n",
    "                imgs = rearrange(imgs, 'b n c t h w -> (b n t) c h w')\n",
    "                # imgs = imgs.reshape(B * T, C, H, W) # B*T C H W\n",
    "                x = model.extract_feat(imgs.unsqueeze(2))\n",
    "                logits = model.cls_head(x) # B*T num_classes\n",
    "                logits = logits.softmax(-1)\n",
    "                negative_entropy = (logits * torch.log(logits)).sum(-1)\n",
    "                negative_entropy = negative_entropy.reshape(B, T)\n",
    "                max_idx = negative_entropy.topk(5, dim=1)[1].sort(dim=1,descending=False)[0]\n",
    "                batch_inds = torch.arange(B).unsqueeze(-1).expand_as(max_idx)\n",
    "                imgs = rearrange(imgs, '(b t) c h w -> b t c h w', b=B, t=T)\n",
    "                sampled_imgs = imgs[batch_inds, max_idx]\n",
    "                sampled_imgs = rearrange(sampled_imgs, 'b t c h w -> b c t h w')\n",
    "\n",
    "                fx = model.extract_feat(sampled_imgs)\n",
    "                flogits = model.cls_head(fx)\n",
    "                result = flogits.detach().cpu().numpy()\n",
    "            elif mode == 'max_confidence':\n",
    "                B, N, C, T, H, W = imgs.shape\n",
    "                imgs = rearrange(imgs, 'b n c t h w -> (b n t) c h w')\n",
    "                # imgs = imgs.reshape(B * T, C, H, W) # B*T C H W\n",
    "                x = model.extract_feat(imgs.unsqueeze(2))\n",
    "                logits = model.cls_head(x) # B*T num_classes\n",
    "                logits = logits.softmax(-1)\n",
    "                argmax_indice = logits.argmax(-1)\n",
    "                # print(\"argmax_indice = \", argmax_indice.shape)\n",
    "                argmax_logits = logits[range(B*T), argmax_indice.squeeze()]\n",
    "                # print(\"argmax_logits = \",argmax_logits.shape)\n",
    "                argmax_logits = argmax_logits.reshape(B, T)\n",
    "                # print(\"argmax_logits reshape = \",argmax_logits.shape)\n",
    "                \n",
    "                max_idx = argmax_logits.topk(6, dim=1)[1].sort(dim=1,descending=False)[0]\n",
    "                # print(\"max_idx = \", max_idx)\n",
    "                batch_inds = torch.arange(B).unsqueeze(-1).expand_as(max_idx)\n",
    "                imgs = rearrange(imgs, '(b t) c h w -> b t c h w', b=B, t=T)\n",
    "                sampled_imgs = imgs[batch_inds, max_idx]\n",
    "                sampled_imgs = rearrange(sampled_imgs, 'b t c h w -> b c t h w')\n",
    "\n",
    "                fx = model.extract_feat(sampled_imgs)\n",
    "                flogits = model.cls_head(fx)\n",
    "                result = flogits.detach().cpu().numpy()\n",
    "\n",
    "\n",
    "        results.extend(result)\n",
    "        # print(np.asarray(results).shape)\n",
    "        # use the first key as main key to calculate the batch size\n",
    "        batch_size = len(next(iter(data.values())))\n",
    "        for _ in range(batch_size):\n",
    "            prog_bar.update()\n",
    "        start = time.time()\n",
    "        # results = collect_results_gpu(results, len(dataset))\n",
    "    return results, sampled_indice, rconfs, wconfs"
   ]
  },
  {
   "cell_type": "code",
   "execution_count": 16,
   "metadata": {},
   "outputs": [
    {
     "name": "stdout",
     "output_type": "stream",
     "text": [
      "############################################################\n",
      "[>>>>>>>>>>>>>>>>>>>>>>>>>>] 9858/9858, 12.9 task/s, elapsed: 763s, ETA:     0s"
     ]
    }
   ],
   "source": [
    "results, sampled_indice, rconfs, wconfs = single_gpu_test(model, data_loader, mode='score1frame')"
   ]
  },
  {
   "cell_type": "code",
   "execution_count": 48,
   "metadata": {},
   "outputs": [],
   "source": [
    "import numpy as np\n",
    "sampled_indice = np.asarray(sampled_indice)"
   ]
  },
  {
   "cell_type": "code",
   "execution_count": 49,
   "metadata": {},
   "outputs": [
    {
     "data": {
      "text/plain": [
       "array([[0, 1, 2, 3, 4, 7],\n",
       "       [0, 1, 4, 5, 6, 7],\n",
       "       [3, 4, 5, 7, 8, 9],\n",
       "       ...,\n",
       "       [0, 1, 4, 7, 8, 9],\n",
       "       [0, 2, 4, 5, 7, 8],\n",
       "       [0, 1, 2, 4, 5, 7]])"
      ]
     },
     "execution_count": 49,
     "metadata": {},
     "output_type": "execute_result"
    }
   ],
   "source": [
    "sampled_indice"
   ]
  },
  {
   "cell_type": "code",
   "execution_count": 50,
   "metadata": {},
   "outputs": [],
   "source": [
    "# torch.save(results, './tensors/minik_u10to6_logit_s_result.pt')\n",
    "torch.save(sampled_indice, './tensors/minik_u10to6_logit_s_indice.pt')\n",
    "# torch.save(sampled_indice, './tensors/anet_u10to6_oracle_s_indice.pt')"
   ]
  },
  {
   "cell_type": "code",
   "execution_count": 12,
   "metadata": {},
   "outputs": [],
   "source": [
    "# metrics = 'mean_average_precision'\n",
    "metrics = 'top_k_accuracy'\n",
    "\n",
    "eval_config = cfg.get('eval_config', {})\n",
    "eval_config = Config._merge_a_into_b(dict(metrics=metrics), eval_config)"
   ]
  },
  {
   "cell_type": "code",
   "execution_count": 13,
   "metadata": {},
   "outputs": [
    {
     "name": "stdout",
     "output_type": "stream",
     "text": [
      "\n",
      "Evaluating top_k_accuracy ...\n",
      "\n",
      "top1_acc\t0.7943\n",
      "top5_acc\t0.9387\n",
      "top1_acc: 0.7943\n",
      "top5_acc: 0.9387\n"
     ]
    }
   ],
   "source": [
    "eval_res = dataset.evaluate(results, **eval_config)\n",
    "for name, val in eval_res.items():\n",
    "    print(f'{name}: {val:.04f}')"
   ]
  },
  {
   "cell_type": "markdown",
   "metadata": {},
   "source": [
    "# MobileNet Cross Entropy Test"
   ]
  },
  {
   "cell_type": "code",
   "execution_count": 2,
   "metadata": {},
   "outputs": [
    {
     "name": "stderr",
     "output_type": "stream",
     "text": [
      "2023-01-30 16:17:11,678 - mmaction - INFO - log from modelzoo/mini_kinetics_mobilenetv2_tsm_sampler_checkpoint.pth\n",
      "2023-01-30 16:17:11,679 - mmaction - INFO - load checkpoint from local path: modelzoo/mini_kinetics_mobilenetv2_tsm_sampler_checkpoint.pth\n"
     ]
    },
    {
     "name": "stdout",
     "output_type": "stream",
     "text": [
      "load checkpoint from local path: work_dirs/minik_mbnv2/best_mean_average_precision_epoch_16.pth\n",
      "\n"
     ]
    }
   ],
   "source": [
    "cfg = Config.fromfile('configs/minik_mbnv2.py')\n",
    "checkpoint = \"work_dirs/minik_mbnv2/best_mean_average_precision_epoch_16.pth\"\n",
    "mbnet = build_model(\n",
    "        cfg.model, train_cfg=None, test_cfg=cfg.get('test_cfg'))\n",
    "load_checkpoint(mbnet, checkpoint, map_location='cpu')\n",
    "mbnet.cuda()\n",
    "print()"
   ]
  },
  {
   "cell_type": "code",
   "execution_count": 3,
   "metadata": {},
   "outputs": [
    {
     "name": "stdout",
     "output_type": "stream",
     "text": [
      "[>>>>>>>>>>>>>>>>>>>>>>>>>>] 9858/9858, 25.0 task/s, elapsed: 395s, ETA:     0s"
     ]
    }
   ],
   "source": [
    "import torch.nn.functional as F\n",
    "prog_bar = mmcv.ProgressBar(len(dataset))\n",
    "results = []\n",
    "for data in data_loader:\n",
    "    model.eval()\n",
    "    mbnet.eval()\n",
    "    with torch.no_grad():\n",
    "        imgs, labels = data['imgs'], data['label'].squeeze()\n",
    "        imgs, labels = imgs.cuda(), labels.cuda()\n",
    "        B, N, C, T, H, W = imgs.shape\n",
    "        imgs = rearrange(imgs, 'b n c t h w -> (b n t) c h w')\n",
    "        # imgs = imgs.reshape(B * T, C, H, W) # B*T C H W\n",
    "        probs = mbnet.extract_feat(F.interpolate(imgs, size=128))\n",
    "        probs = mbnet.cls_head(probs)\n",
    "        probs = probs.softmax(-1)\n",
    "        max_score, max_index = torch.max(probs, -1) # [B * T]\n",
    "        max_score = max_score.reshape(B, T) # [B, T]\n",
    "        sample_index = max_score.topk(6, dim=1)[1]\n",
    "        sample_index, _ = sample_index.sort(dim=1, descending=False)\n",
    "        batch_inds = torch.arange(B).unsqueeze(-1).expand_as(sample_index)\n",
    "        imgs = rearrange(imgs, '(b t) c h w -> b t c h w', b = B, t = T)\n",
    "        sampled_imgs = imgs[batch_inds, sample_index] # sampled_imgs [B, t, C, H, W], where t is the number of sampled frames\n",
    "        sampled_imgs = rearrange(sampled_imgs, 'b t c h w -> b c t h w')\n",
    "        x = model.extract_feat(sampled_imgs)\n",
    "        flogits = model.cls_head(x)\n",
    "        result = flogits.detach().cpu().numpy()\n",
    "    results.extend(result)\n",
    "    # print(np.asarray(results).shape)\n",
    "    # use the first key as main key to calculate the batch size\n",
    "    batch_size = len(next(iter(data.values())))\n",
    "    for _ in range(batch_size):\n",
    "        prog_bar.update()\n"
   ]
  },
  {
   "cell_type": "code",
   "execution_count": 4,
   "metadata": {},
   "outputs": [],
   "source": [
    "# metrics = 'mean_average_precision'\n",
    "metrics = 'top_k_accuracy'\n",
    "\n",
    "eval_config = cfg.get('eval_config', {})\n",
    "eval_config = Config._merge_a_into_b(dict(metrics=metrics), eval_config)"
   ]
  },
  {
   "cell_type": "code",
   "execution_count": 5,
   "metadata": {},
   "outputs": [
    {
     "name": "stdout",
     "output_type": "stream",
     "text": [
      "\n",
      "Evaluating top_k_accuracy ...\n",
      "\n",
      "top1_acc\t0.8009\n",
      "top5_acc\t0.9407\n",
      "top1_acc: 0.8009\n",
      "top5_acc: 0.9407\n"
     ]
    }
   ],
   "source": [
    "eval_res = dataset.evaluate(results, **eval_config)\n",
    "for name, val in eval_res.items():\n",
    "    print(f'{name}: {val:.04f}')"
   ]
  },
  {
   "cell_type": "markdown",
   "metadata": {},
   "source": [
    "# Overfitting Test"
   ]
  },
  {
   "cell_type": "code",
   "execution_count": 3,
   "metadata": {},
   "outputs": [
    {
     "name": "stderr",
     "output_type": "stream",
     "text": [
      "2023-01-30 21:54:00,813 - mmaction - INFO - log from modelzoo/mini_kinetics_mobilenetv2_tsm_sampler_checkpoint.pth\n",
      "2023-01-30 21:54:00,814 - mmaction - INFO - load checkpoint from local path: modelzoo/mini_kinetics_mobilenetv2_tsm_sampler_checkpoint.pth\n"
     ]
    },
    {
     "name": "stdout",
     "output_type": "stream",
     "text": [
      "load checkpoint from local path: work_dirs/mini_kinetics_kd_bpr_mbnv2_timesformer/epoch_10.pth\n"
     ]
    }
   ],
   "source": [
    "config = \"work_dirs/mini_kinetics_kd_bpr_mbnv2_timesformer/minik_kd_bpr_mbnv2_timesformer.py\"\n",
    "checkpoint = \"work_dirs/mini_kinetics_kd_bpr_mbnv2_timesformer/epoch_10.pth\"\n",
    "\n",
    "# config = \"configs/single_anet_timesformer_6x100x1.py\"\n",
    "# checkpoint = \"modelzoo/timesformer_6x100x1_anet.pth\"\n",
    "\n",
    "cfg = Config.fromfile(config)\n",
    "\n",
    "dataset = build_dataset(cfg.data.train, dict(test_mode=True))\n",
    "# dataset = build_dataset(cfg.data.train, dict(test_mode=True))\n",
    "dataloader_setting = dict(\n",
    "    videos_per_gpu=cfg.data.get('videos_per_gpu', 1),\n",
    "    workers_per_gpu=cfg.data.get('workers_per_gpu', 1),\n",
    "    dist=False,\n",
    "    shuffle=False)\n",
    "dataloader_setting = dict(dataloader_setting,\n",
    "                            **cfg.data.get('test_dataloader', {}))\n",
    "data_loader = build_dataloader(dataset, **dataloader_setting)\n",
    "\n",
    "model = build_model(\n",
    "        cfg.model, train_cfg=None, test_cfg=cfg.get('test_cfg'))\n",
    "load_checkpoint(model, checkpoint, map_location='cpu')\n",
    "model = model.cuda()"
   ]
  },
  {
   "cell_type": "code",
   "execution_count": 4,
   "metadata": {},
   "outputs": [
    {
     "name": "stdout",
     "output_type": "stream",
     "text": [
      "[>>>>>>>>>>>>>>>>>>>>>] 113911/113911, 11.9 task/s, elapsed: 9606s, ETA:     0s:"
     ]
    }
   ],
   "source": [
    "import torch.nn.functional as F\n",
    "import torch\n",
    "\n",
    "prog_bar = mmcv.ProgressBar(len(dataset))\n",
    "loss = torch.nn.MSELoss()\n",
    "mse = 0\n",
    "for data in data_loader:\n",
    "    model.eval()\n",
    "    with torch.no_grad():\n",
    "        imgs, labels = data['imgs'], data['label'].squeeze()\n",
    "        imgs, labels = imgs.cuda(), labels.cuda()\n",
    "        B, N, C, T, H, W = imgs.shape\n",
    "        imgs = rearrange(imgs, 'b n c t h w -> (b n t) c h w')\n",
    "        # imgs = imgs.reshape(B * T, C, H, W) # B*T C H W\n",
    "        x_s = model.sampler(F.interpolate(imgs, size=128)).squeeze()\n",
    "        probs = model.sample_forward(x_s, T)\n",
    "        x = model.extract_feat(imgs.unsqueeze(2))\n",
    "        cls_score = model.cls_head(x)\n",
    "        gt_labels = labels.squeeze()\n",
    "        cls_score = cls_score.reshape(B, T, -1)\n",
    "        gt_logit = cls_score[range(B),:,gt_labels] # [B, T]\n",
    "        gt_logit[gt_logit >= 0.3] = 1.0\n",
    "        gt_logit[gt_logit < 0.3] = 0.0\n",
    "        mse += loss(probs, gt_logit) * B\n",
    "    batch_size = len(next(iter(data.values())))\n",
    "    for _ in range(batch_size):\n",
    "        prog_bar.update()"
   ]
  },
  {
   "cell_type": "code",
   "execution_count": 6,
   "metadata": {},
   "outputs": [
    {
     "data": {
      "text/plain": [
       "tensor(0.2457, device='cuda:0')"
      ]
     },
     "execution_count": 6,
     "metadata": {},
     "output_type": "execute_result"
    }
   ],
   "source": [
    "mse / 113911"
   ]
  },
  {
   "cell_type": "code",
   "execution_count": 17,
   "metadata": {},
   "outputs": [],
   "source": [
    "idataloader = iter(data_loader)"
   ]
  },
  {
   "cell_type": "code",
   "execution_count": 33,
   "metadata": {},
   "outputs": [],
   "source": [
    "data = next(idataloader)"
   ]
  },
  {
   "cell_type": "code",
   "execution_count": 40,
   "metadata": {},
   "outputs": [],
   "source": [
    "model.eval()\n",
    "with torch.no_grad():\n",
    "    imgs, labels = data['imgs'], data['label'].squeeze()\n",
    "    imgs, labels = imgs.cuda(), labels.cuda()\n",
    "    B, N, C, T, H, W = imgs.shape\n",
    "    imgs = rearrange(imgs, 'b n c t h w -> (b n t) c h w')\n",
    "    # imgs = imgs.reshape(B * T, C, H, W) # B*T C H W\n",
    "    x_s = model.sampler(F.interpolate(imgs, size=128)).squeeze()\n",
    "    probs = model.sample_forward(x_s, T)\n",
    "    x = model.extract_feat(imgs.unsqueeze(2))\n",
    "    cls_score = model.cls_head(x)\n",
    "    gt_labels = labels.squeeze()\n",
    "    cls_score = cls_score.softmax(-1)\n",
    "    cls_score = cls_score.reshape(B, T, -1)\n",
    "    gt_logit = cls_score[range(B),:,gt_labels] # [B, T]\n",
    "    gt_logit[gt_logit >= 0.3] = 1.0\n",
    "    gt_logit[gt_logit < 0.3] = 0.0"
   ]
  },
  {
   "cell_type": "code",
   "execution_count": 43,
   "metadata": {},
   "outputs": [],
   "source": [
    "torch.set_printoptions(precision=2)"
   ]
  },
  {
   "cell_type": "markdown",
   "metadata": {},
   "source": [
    "# Similarity test"
   ]
  },
  {
   "cell_type": "code",
   "execution_count": 51,
   "metadata": {},
   "outputs": [],
   "source": [
    "import torch\n",
    "\n",
    "anet_logit_indice = torch.load(\"tensors/anet_u10to6_logit_s_indice.pt\")\n",
    "anet_oracle_indice = torch.load(\"tensors/anet_u10to6_oracle_s_indice.pt\")\n",
    "\n",
    "minik_logit_indice = torch.load(\"tensors/minik_u10to6_logit_s_indice.pt\")\n",
    "minik_oracle_indice = torch.load(\"tensors/minik_u10to6_oracle_s_indice.pt\")"
   ]
  },
  {
   "cell_type": "code",
   "execution_count": 53,
   "metadata": {},
   "outputs": [
    {
     "data": {
      "text/plain": [
       "(9858, 6)"
      ]
     },
     "execution_count": 53,
     "metadata": {},
     "output_type": "execute_result"
    }
   ],
   "source": [
    "minik_logit_indice.shape"
   ]
  },
  {
   "cell_type": "code",
   "execution_count": 54,
   "metadata": {},
   "outputs": [
    {
     "data": {
      "text/plain": [
       "(9858, 6)"
      ]
     },
     "execution_count": 54,
     "metadata": {},
     "output_type": "execute_result"
    }
   ],
   "source": [
    "minik_oracle_indice.shape"
   ]
  },
  {
   "cell_type": "code",
   "execution_count": 42,
   "metadata": {},
   "outputs": [
    {
     "data": {
      "text/plain": [
       "(4926, 6)"
      ]
     },
     "execution_count": 42,
     "metadata": {},
     "output_type": "execute_result"
    }
   ],
   "source": [
    "minik_logit_indice.shape"
   ]
  },
  {
   "cell_type": "code",
   "execution_count": 29,
   "metadata": {},
   "outputs": [],
   "source": [
    "mean = 0"
   ]
  },
  {
   "cell_type": "code",
   "execution_count": 55,
   "metadata": {},
   "outputs": [],
   "source": [
    "total = 0\n",
    "for i in range(len(minik_logit_indice)):\n",
    "    gt = minik_oracle_indice[i]\n",
    "    pred = minik_logit_indice[i]\n",
    "    score = 0\n",
    "    for j in range(6):\n",
    "        if pred[j] in gt:\n",
    "            score += 1\n",
    "    total += (score / 6)"
   ]
  },
  {
   "cell_type": "code",
   "execution_count": 56,
   "metadata": {},
   "outputs": [
    {
     "data": {
      "text/plain": [
       "0.718976127679722"
      ]
     },
     "execution_count": 56,
     "metadata": {},
     "output_type": "execute_result"
    }
   ],
   "source": [
    "total/len(minik_logit_indice)"
   ]
  },
  {
   "cell_type": "code",
   "execution_count": 34,
   "metadata": {},
   "outputs": [
    {
     "data": {
      "text/plain": [
       "(4926, 6)"
      ]
     },
     "execution_count": 34,
     "metadata": {},
     "output_type": "execute_result"
    }
   ],
   "source": [
    "anet_oracle_indice.shape"
   ]
  },
  {
   "cell_type": "code",
   "execution_count": 35,
   "metadata": {},
   "outputs": [],
   "source": [
    "total = 0\n",
    "for i in range(len(anet_logit_indice)):\n",
    "    gt = anet_oracle_indice[i]\n",
    "    pred = anet_logit_indice[i]\n",
    "    score = 0\n",
    "    for j in range(6):\n",
    "        if pred[j] in gt:\n",
    "            score += 1\n",
    "    total += (score / 6)"
   ]
  },
  {
   "cell_type": "code",
   "execution_count": 29,
   "metadata": {},
   "outputs": [
    {
     "data": {
      "text/plain": [
       "0.7209703613479477"
      ]
     },
     "execution_count": 29,
     "metadata": {},
     "output_type": "execute_result"
    }
   ],
   "source": [
    "total/len(anet_logit_indice)"
   ]
  },
  {
   "cell_type": "code",
   "execution_count": 87,
   "metadata": {},
   "outputs": [
    {
     "name": "stdout",
     "output_type": "stream",
     "text": [
      "0.6677660950330118\n"
     ]
    }
   ],
   "source": [
    "\n",
    "import numpy as np\n",
    "\n",
    "\n",
    "def ndcg(rel_true, rel_pred, p=None, form=\"linear\"):\n",
    "    \"\"\" Returns normalized Discounted Cumulative Gain\n",
    "    Args:\n",
    "        rel_true (1-D Array): relevance lists for particular user, (n_songs,)\n",
    "        rel_pred (1-D Array): predicted relevance lists, (n_pred,)\n",
    "        p (int): particular rank position\n",
    "        form (string): two types of nDCG formula, 'linear' or 'exponential'\n",
    "    Returns:\n",
    "        ndcg (float): normalized discounted cumulative gain score [0, 1]\n",
    "    \"\"\"\n",
    "    rel_true = np.sort(rel_true)[::-1]\n",
    "    p = min(len(rel_true), min(len(rel_pred), p))\n",
    "    discount = 1 / (np.log2(np.arange(p) + 2))\n",
    "\n",
    "    if form == \"linear\":\n",
    "        idcg = np.sum(rel_true[:p] * discount)\n",
    "        dcg = np.sum(rel_pred[:p] * discount)\n",
    "    elif form == \"exponential\" or form == \"exp\":\n",
    "        idcg = np.sum([2**x - 1 for x in rel_true[:p]] * discount)\n",
    "        dcg = np.sum([2**x - 1 for x in rel_pred[:p]] * discount)\n",
    "    else:\n",
    "        raise ValueError(\"Only supported for two formula, 'linear' or 'exp'\")\n",
    "\n",
    "    return dcg / idcg\n",
    "\n",
    "ndcg_sum = 0\n",
    "for i in range(len(minik_oracle_indice)):\n",
    "    ndcg_sum += ndcg(minik_oracle_indice[i], minik_logit_indice.numpy()[i], 6)\n",
    "ndcg_mean = ndcg_sum / len(minik_oracle_indice)\n",
    "print(ndcg_mean)"
   ]
  },
  {
   "cell_type": "code",
   "execution_count": 79,
   "metadata": {},
   "outputs": [
    {
     "ename": "TypeError",
     "evalue": "'<' not supported between instances of 'NoneType' and 'int'",
     "output_type": "error",
     "traceback": [
      "\u001b[0;31m---------------------------------------------------------------------------\u001b[0m",
      "\u001b[0;31mTypeError\u001b[0m                                 Traceback (most recent call last)",
      "\u001b[0;32m/tmp/ipykernel_296844/1934892733.py\u001b[0m in \u001b[0;36m<module>\u001b[0;34m\u001b[0m\n\u001b[1;32m      1\u001b[0m \u001b[0mp\u001b[0m \u001b[0;34m=\u001b[0m \u001b[0;32mNone\u001b[0m\u001b[0;34m\u001b[0m\u001b[0;34m\u001b[0m\u001b[0m\n\u001b[0;32m----> 2\u001b[0;31m \u001b[0mp\u001b[0m \u001b[0;34m=\u001b[0m \u001b[0mmin\u001b[0m\u001b[0;34m(\u001b[0m\u001b[0mlen\u001b[0m\u001b[0;34m(\u001b[0m\u001b[0mminik_oracle_indice\u001b[0m\u001b[0;34m[\u001b[0m\u001b[0mi\u001b[0m\u001b[0;34m]\u001b[0m\u001b[0;34m)\u001b[0m\u001b[0;34m,\u001b[0m \u001b[0mmin\u001b[0m\u001b[0;34m(\u001b[0m\u001b[0mlen\u001b[0m\u001b[0;34m(\u001b[0m\u001b[0mminik_logit_indice\u001b[0m\u001b[0;34m[\u001b[0m\u001b[0mi\u001b[0m\u001b[0;34m]\u001b[0m\u001b[0;34m)\u001b[0m\u001b[0;34m,\u001b[0m \u001b[0mp\u001b[0m\u001b[0;34m)\u001b[0m\u001b[0;34m)\u001b[0m\u001b[0;34m\u001b[0m\u001b[0;34m\u001b[0m\u001b[0m\n\u001b[0m",
      "\u001b[0;31mTypeError\u001b[0m: '<' not supported between instances of 'NoneType' and 'int'"
     ]
    }
   ],
   "source": [
    "p = None\n",
    "p = min(len(minik_oracle_indice[i]), min(len(minik_logit_indice[i]), p))"
   ]
  },
  {
   "cell_type": "code",
   "execution_count": 80,
   "metadata": {},
   "outputs": [
    {
     "data": {
      "text/plain": [
       "6"
      ]
     },
     "execution_count": 80,
     "metadata": {},
     "output_type": "execute_result"
    }
   ],
   "source": [
    "len(minik_oracle_indice[i])"
   ]
  },
  {
   "cell_type": "code",
   "execution_count": 83,
   "metadata": {},
   "outputs": [
    {
     "data": {
      "text/plain": [
       "tensor([0, 1, 2, 3, 4, 7])"
      ]
     },
     "execution_count": 83,
     "metadata": {},
     "output_type": "execute_result"
    }
   ],
   "source": [
    "minik_logit_indice[i]"
   ]
  },
  {
   "cell_type": "code",
   "execution_count": 82,
   "metadata": {},
   "outputs": [
    {
     "ename": "TypeError",
     "evalue": "'int' object is not iterable",
     "output_type": "error",
     "traceback": [
      "\u001b[0;31m---------------------------------------------------------------------------\u001b[0m",
      "\u001b[0;31mTypeError\u001b[0m                                 Traceback (most recent call last)",
      "\u001b[0;32m/tmp/ipykernel_296844/1572006402.py\u001b[0m in \u001b[0;36m<module>\u001b[0;34m\u001b[0m\n\u001b[0;32m----> 1\u001b[0;31m \u001b[0mmin\u001b[0m\u001b[0;34m(\u001b[0m\u001b[0mlen\u001b[0m\u001b[0;34m(\u001b[0m\u001b[0mminik_logit_indice\u001b[0m\u001b[0;34m[\u001b[0m\u001b[0mi\u001b[0m\u001b[0;34m]\u001b[0m\u001b[0;34m)\u001b[0m\u001b[0;34m)\u001b[0m\u001b[0;34m\u001b[0m\u001b[0;34m\u001b[0m\u001b[0m\n\u001b[0m",
      "\u001b[0;31mTypeError\u001b[0m: 'int' object is not iterable"
     ]
    }
   ],
   "source": [
    "min(len(minik_logit_indice[i]))"
   ]
  },
  {
   "cell_type": "code",
   "execution_count": 8,
   "metadata": {},
   "outputs": [],
   "source": [
    "cp = torch.load(\"modelzoo/mini_kinetics_mobilenetv2_tsm_sampler_checkpoint.pth\")"
   ]
  },
  {
   "cell_type": "code",
   "execution_count": 18,
   "metadata": {},
   "outputs": [],
   "source": [
    "torch.cuda.empty_cache()"
   ]
  },
  {
   "cell_type": "code",
   "execution_count": 17,
   "metadata": {},
   "outputs": [
    {
     "data": {
      "text/plain": [
       "torch.Size([300, 3, 224, 224])"
      ]
     },
     "execution_count": 17,
     "metadata": {},
     "output_type": "execute_result"
    }
   ],
   "source": [
    "imgs.shape"
   ]
  },
  {
   "cell_type": "code",
   "execution_count": 70,
   "metadata": {},
   "outputs": [
    {
     "data": {
      "text/plain": [
       "array([[0, 2, 3, 4, 6, 7],\n",
       "       [0, 3, 4, 5, 6, 9],\n",
       "       [0, 4, 5, 7, 8, 9],\n",
       "       ...,\n",
       "       [0, 1, 4, 7, 8, 9],\n",
       "       [2, 3, 4, 5, 8, 9],\n",
       "       [0, 1, 2, 4, 5, 6]])"
      ]
     },
     "execution_count": 70,
     "metadata": {},
     "output_type": "execute_result"
    }
   ],
   "source": [
    "minik_oracle_indice"
   ]
  },
  {
   "cell_type": "code",
   "execution_count": 71,
   "metadata": {},
   "outputs": [
    {
     "data": {
      "text/plain": [
       "tensor([[0, 1, 2, 3, 4, 7],\n",
       "        [0, 1, 4, 5, 6, 7],\n",
       "        [3, 4, 5, 7, 8, 9],\n",
       "        ...,\n",
       "        [0, 1, 4, 7, 8, 9],\n",
       "        [0, 2, 4, 5, 7, 8],\n",
       "        [0, 1, 2, 4, 5, 7]])"
      ]
     },
     "execution_count": 71,
     "metadata": {},
     "output_type": "execute_result"
    }
   ],
   "source": [
    "minik_logit_indice"
   ]
  },
  {
   "cell_type": "markdown",
   "metadata": {},
   "source": [
    "# Simple Treshold"
   ]
  },
  {
   "cell_type": "code",
   "execution_count": 39,
   "metadata": {},
   "outputs": [
    {
     "ename": "RuntimeError",
     "evalue": "stack expects a non-empty TensorList",
     "output_type": "error",
     "traceback": [
      "\u001b[0;31m---------------------------------------------------------------------------\u001b[0m",
      "\u001b[0;31mRuntimeError\u001b[0m                              Traceback (most recent call last)",
      "\u001b[0;32m/tmp/ipykernel_179922/912977433.py\u001b[0m in \u001b[0;36m<module>\u001b[0;34m\u001b[0m\n\u001b[1;32m      1\u001b[0m \u001b[0;32mimport\u001b[0m \u001b[0mtorch\u001b[0m\u001b[0;34m\u001b[0m\u001b[0;34m\u001b[0m\u001b[0m\n\u001b[0;32m----> 2\u001b[0;31m \u001b[0mx\u001b[0m \u001b[0;34m=\u001b[0m \u001b[0mtorch\u001b[0m\u001b[0;34m.\u001b[0m\u001b[0mstack\u001b[0m\u001b[0;34m(\u001b[0m\u001b[0mrconfs\u001b[0m\u001b[0;34m,\u001b[0m \u001b[0;36m0\u001b[0m\u001b[0;34m)\u001b[0m\u001b[0;34m.\u001b[0m\u001b[0mflatten\u001b[0m\u001b[0;34m(\u001b[0m\u001b[0;34m)\u001b[0m\u001b[0;34m.\u001b[0m\u001b[0mcpu\u001b[0m\u001b[0;34m(\u001b[0m\u001b[0;34m)\u001b[0m\u001b[0;34m\u001b[0m\u001b[0;34m\u001b[0m\u001b[0m\n\u001b[0m\u001b[1;32m      3\u001b[0m \u001b[0;31m# y = torch.stack(wconfs, 0).flatten().cpu()\u001b[0m\u001b[0;34m\u001b[0m\u001b[0;34m\u001b[0m\u001b[0;34m\u001b[0m\u001b[0m\n",
      "\u001b[0;31mRuntimeError\u001b[0m: stack expects a non-empty TensorList"
     ]
    }
   ],
   "source": [
    "import torch\n",
    "x = torch.stack(rconfs, 0).flatten().cpu()\n",
    "# y = torch.stack(wconfs, 0).flatten().cpu()"
   ]
  },
  {
   "cell_type": "code",
   "execution_count": 22,
   "metadata": {},
   "outputs": [
    {
     "name": "stdout",
     "output_type": "stream",
     "text": [
      "\n"
     ]
    },
    {
     "data": {
      "image/png": "[encoded data removed]",
      "text/plain": [
       "<Figure size 700x500 with 1 Axes>"
      ]
     },
     "metadata": {
      "needs_background": "light"
     },
     "output_type": "display_data"
    }
   ],
   "source": [
    "import matplotlib.pyplot as plt\n",
    "%matplotlib inline\n",
    "plt.rcParams.update({'figure.figsize':(7,5), 'figure.dpi':100})\n",
    "\n",
    "# Plot Histogram on x\n",
    "plt.hist(x, bins=100, label='correct')\n",
    "plt.hist(y, bins=100, label='wrong', alpha=0.7)\n",
    "plt.legend()\n",
    "print()"
   ]
  },
  {
   "cell_type": "code",
   "execution_count": 175,
   "metadata": {},
   "outputs": [
    {
     "data": {
      "image/png": "[encoded data removed]",
      "text/plain": [
       "<Figure size 700x500 with 1 Axes>"
      ]
     },
     "metadata": {
      "needs_background": "light"
     },
     "output_type": "display_data"
    }
   ],
   "source": [
    "plt.close()\n",
    "plt.hist(minik_top6, bins=100, label='minik_top6', alpha = 0.7)\n",
    "plt.hist(minik_top3, bins=100, label='minik_top3', alpha = 0.7)\n",
    "plt.legend()\n",
    "plt.show()"
   ]
  },
  {
   "cell_type": "code",
   "execution_count": 174,
   "metadata": {},
   "outputs": [
    {
     "data": {
      "image/png": "[encoded data removed]",
      "text/plain": [
       "<Figure size 700x500 with 1 Axes>"
      ]
     },
     "metadata": {
      "needs_background": "light"
     },
     "output_type": "display_data"
    }
   ],
   "source": [
    "plt.close()\n",
    "plt.hist(anet_top6, bins=100, label='anet_top6', alpha = 0.8)\n",
    "plt.hist(anet_top3, bins=100, label='anet_top3', alpha = 0.8)\n",
    "plt.legend()\n",
    "plt.show()"
   ]
  },
  {
   "cell_type": "code",
   "execution_count": 98,
   "metadata": {},
   "outputs": [],
   "source": [
    "import numpy as np\n",
    "a = np.asarray(results)\n",
    "b = np.asarray(sampled_indice)"
   ]
  },
  {
   "cell_type": "code",
   "execution_count": 99,
   "metadata": {},
   "outputs": [],
   "source": [
    "torch.save(a, './tensors/minik_u10to1_logit_s_result.pt')\n",
    "torch.save(b, './tensors/minik_u10to1_logit_s_indice.pt')"
   ]
  },
  {
   "cell_type": "code",
   "execution_count": 2,
   "metadata": {},
   "outputs": [],
   "source": [
    "idataloader = iter(data_loader)"
   ]
  },
  {
   "cell_type": "code",
   "execution_count": 3,
   "metadata": {},
   "outputs": [],
   "source": [
    "data = next(idataloader)\n",
    "# imgs, labels = data['imgs'], data['label'].squeeze()"
   ]
  },
  {
   "cell_type": "code",
   "execution_count": 4,
   "metadata": {},
   "outputs": [],
   "source": [
    "from einops import rearrange\n",
    "perm_num = 6\n",
    "with torch.no_grad():\n",
    "    imgs, labels = data['imgs'], data['label'].squeeze()\n",
    "    imgs, labels = imgs.cuda(), labels.cuda()\n",
    "    B, N, C, T, H, W = imgs.shape\n",
    "    imgs = rearrange(imgs, 'b n c t h w -> (b n t) c h w')\n",
    "    # imgs = imgs.reshape(B * T, C, H, W) # B*T C H W\n",
    "    x = model.extract_feat(imgs.unsqueeze(2))\n",
    "    logits = model.cls_head(x) # B*T num_classes\n",
    "    logits = logits.softmax(-1)\n",
    "    logits = logits.reshape(B, T, -1)\n",
    "    label_logits = logits[range(B), :, labels.squeeze()]\n",
    "\n",
    "    max_idx = label_logits.topk(1, dim=1)[1].sort(dim=1,descending=False)[0]\n",
    "    batch_inds = torch.arange(B).unsqueeze(-1).expand_as(max_idx)\n",
    "    imgs = rearrange(imgs, '(b t) c h w -> b t c h w', b=B, t=T)\n",
    "    sampled_imgs = imgs[batch_inds, max_idx]\n",
    "    sampled_imgs = rearrange(sampled_imgs, 'b t c h w -> b c t h w')\n",
    "    fx = model.extract_feat(sampled_imgs)\n",
    "    flogits = model.cls_head(fx)\n",
    "    result = flogits.detach().cpu().numpy()"
   ]
  },
  {
   "cell_type": "code",
   "execution_count": 29,
   "metadata": {},
   "outputs": [],
   "source": [
    "imgs, labels = data['imgs'].cuda(), data['label'].cuda()\n",
    "with torch.no_grad():\n",
    "    B, N, C, T, H, W = imgs.shape\n",
    "    imgs = rearrange(imgs, 'b n c t h w -> (b n t) c h w')\n",
    "    # imgs = imgs.reshape(B * T, C, H, W) # B*T C H W\n",
    "    x = model.extract_feat(imgs.unsqueeze(2))\n",
    "    logits = model.cls_head(x) # B*T num_classes\n",
    "    # logits = logits.softmax(-1)\n",
    "    negative_entropy = (logits * torch.log(logits)).sum(-1)\n",
    "    negative_entropy = negative_entropy.reshape(B, T)\n",
    "    max_idx = negative_entropy.topk(6, dim=1)[1].sort(dim=1,descending=False)[0]\n",
    "    batch_inds = torch.arange(B).unsqueeze(-1).expand_as(max_idx)\n",
    "    imgs = rearrange(imgs, '(b t) c h w -> b t c h w', b=B, t=T)\n",
    "    sampled_imgs = imgs[batch_inds, max_idx]\n",
    "    sampled_imgs = rearrange(sampled_imgs, 'b t c h w -> b c t h w')\n",
    "\n",
    "    fx = model.extract_feat(sampled_imgs)\n",
    "    flogits = model.cls_head(fx)\n",
    "    result = flogits.detach().cpu().numpy()\n"
   ]
  },
  {
   "cell_type": "code",
   "execution_count": 32,
   "metadata": {},
   "outputs": [
    {
     "data": {
      "text/plain": [
       "tensor([8.1330e-01, 1.8330e-01, 3.2580e-03, 1.4101e-04])"
      ]
     },
     "execution_count": 32,
     "metadata": {},
     "output_type": "execute_result"
    }
   ],
   "source": [
    "torch.tensor( [7.64,  6.15,  2.12, -1.02]).softmax(-1)"
   ]
  },
  {
   "cell_type": "code",
   "execution_count": 17,
   "metadata": {},
   "outputs": [
    {
     "data": {
      "text/plain": [
       "-5.298317366548036"
      ]
     },
     "execution_count": 17,
     "metadata": {},
     "output_type": "execute_result"
    }
   ],
   "source": [
    "import numpy as np\n",
    "np.log(1/200)"
   ]
  },
  {
   "cell_type": "code",
   "execution_count": 14,
   "metadata": {},
   "outputs": [
    {
     "data": {
      "text/plain": [
       "tensor(2.4935, device='cuda:0')"
      ]
     },
     "execution_count": 14,
     "metadata": {},
     "output_type": "execute_result"
    }
   ],
   "source": [
    "-(logits[0] * torch.log(logits[0])).sum(-1)"
   ]
  },
  {
   "cell_type": "code",
   "execution_count": 24,
   "metadata": {},
   "outputs": [
    {
     "data": {
      "text/plain": [
       "tensor([-1.4538, -2.5542, -2.0615, -1.9998, -2.0039, -4.1134, -4.1134, -4.1134,\n",
       "        -4.1134, -4.1134], device='cuda:0')"
      ]
     },
     "execution_count": 24,
     "metadata": {},
     "output_type": "execute_result"
    }
   ],
   "source": [
    "negative_entropy[-5]"
   ]
  },
  {
   "cell_type": "code",
   "execution_count": 25,
   "metadata": {},
   "outputs": [
    {
     "data": {
      "text/plain": [
       "tensor([0.0801, 0.1262, 0.0321, 0.0498, 0.0791, 0.0282, 0.0282, 0.0282, 0.0282,\n",
       "        0.0282], device='cuda:0')"
      ]
     },
     "execution_count": 25,
     "metadata": {},
     "output_type": "execute_result"
    }
   ],
   "source": [
    "label_logits[-5]"
   ]
  },
  {
   "cell_type": "code",
   "execution_count": 52,
   "metadata": {},
   "outputs": [],
   "source": [
    "imgs, labels = data['imgs'], data['label'].squeeze()"
   ]
  },
  {
   "cell_type": "code",
   "execution_count": 53,
   "metadata": {},
   "outputs": [],
   "source": [
    "imgs = imgs.reshape(50, 3, 10, 224, 224)"
   ]
  },
  {
   "cell_type": "code",
   "execution_count": 55,
   "metadata": {},
   "outputs": [],
   "source": [
    "imgs = imgs.transpose(1,2)"
   ]
  },
  {
   "cell_type": "code",
   "execution_count": 36,
   "metadata": {},
   "outputs": [
    {
     "data": {
      "text/plain": [
       "torch.Size([50, 10, 3, 224, 224])"
      ]
     },
     "execution_count": 36,
     "metadata": {},
     "output_type": "execute_result"
    }
   ],
   "source": [
    "imgs.shape"
   ]
  },
  {
   "cell_type": "code",
   "execution_count": 136,
   "metadata": {},
   "outputs": [
    {
     "data": {
      "text/plain": [
       "torch.Size([3, 1, 224, 224])"
      ]
     },
     "execution_count": 136,
     "metadata": {},
     "output_type": "execute_result"
    }
   ],
   "source": [
    "sampled_imgs[0].shape"
   ]
  },
  {
   "cell_type": "code",
   "execution_count": 44,
   "metadata": {},
   "outputs": [
    {
     "data": {
      "text/plain": [
       "torch.Size([10, 3, 224, 224])"
      ]
     },
     "execution_count": 44,
     "metadata": {},
     "output_type": "execute_result"
    }
   ],
   "source": [
    "imgs[0].shape"
   ]
  },
  {
   "cell_type": "code",
   "execution_count": 18,
   "metadata": {},
   "outputs": [],
   "source": [
    "sampled_imgs = perm_imgs"
   ]
  },
  {
   "cell_type": "code",
   "execution_count": 11,
   "metadata": {},
   "outputs": [
    {
     "ename": "ValueError",
     "evalue": "too many values to unpack (expected 4)",
     "output_type": "error",
     "traceback": [
      "\u001b[0;31m---------------------------------------------------------------------------\u001b[0m",
      "\u001b[0;31mValueError\u001b[0m                                Traceback (most recent call last)",
      "\u001b[0;32m/tmp/ipykernel_285329/738139643.py\u001b[0m in \u001b[0;36m<module>\u001b[0;34m\u001b[0m\n\u001b[1;32m     39\u001b[0m             \u001b[0maxs\u001b[0m\u001b[0;34m[\u001b[0m\u001b[0mi\u001b[0m\u001b[0;34m,\u001b[0m \u001b[0;36m0\u001b[0m\u001b[0;34m]\u001b[0m\u001b[0;34m.\u001b[0m\u001b[0mset\u001b[0m\u001b[0;34m(\u001b[0m\u001b[0mxticklabels\u001b[0m\u001b[0;34m=\u001b[0m\u001b[0;34m[\u001b[0m\u001b[0;34m]\u001b[0m\u001b[0;34m,\u001b[0m \u001b[0myticklabels\u001b[0m\u001b[0;34m=\u001b[0m\u001b[0;34m[\u001b[0m\u001b[0;34m]\u001b[0m\u001b[0;34m,\u001b[0m \u001b[0mxticks\u001b[0m\u001b[0;34m=\u001b[0m\u001b[0;34m[\u001b[0m\u001b[0;34m]\u001b[0m\u001b[0;34m,\u001b[0m \u001b[0myticks\u001b[0m\u001b[0;34m=\u001b[0m\u001b[0;34m[\u001b[0m\u001b[0;34m]\u001b[0m\u001b[0;34m)\u001b[0m\u001b[0;34m\u001b[0m\u001b[0;34m\u001b[0m\u001b[0m\n\u001b[1;32m     40\u001b[0m \u001b[0munorm\u001b[0m \u001b[0;34m=\u001b[0m \u001b[0mUnNormalize\u001b[0m\u001b[0;34m(\u001b[0m\u001b[0mmean\u001b[0m\u001b[0;34m=\u001b[0m\u001b[0;34m[\u001b[0m\u001b[0;36m123.675\u001b[0m\u001b[0;34m,\u001b[0m \u001b[0;36m116.28\u001b[0m\u001b[0;34m,\u001b[0m \u001b[0;36m103.53\u001b[0m\u001b[0;34m]\u001b[0m\u001b[0;34m,\u001b[0m \u001b[0mstd\u001b[0m\u001b[0;34m=\u001b[0m\u001b[0;34m[\u001b[0m\u001b[0;36m58.395\u001b[0m\u001b[0;34m,\u001b[0m \u001b[0;36m57.12\u001b[0m\u001b[0;34m,\u001b[0m \u001b[0;36m57.375\u001b[0m\u001b[0;34m]\u001b[0m\u001b[0;34m)\u001b[0m\u001b[0;34m\u001b[0m\u001b[0;34m\u001b[0m\u001b[0m\n\u001b[0;32m---> 41\u001b[0;31m \u001b[0mu_imgs\u001b[0m \u001b[0;34m=\u001b[0m \u001b[0munorm\u001b[0m\u001b[0;34m(\u001b[0m\u001b[0mimgs\u001b[0m\u001b[0;34m[\u001b[0m\u001b[0midx\u001b[0m\u001b[0;34m]\u001b[0m\u001b[0;34m[\u001b[0m\u001b[0;36m0\u001b[0m\u001b[0;34m]\u001b[0m\u001b[0;34m)\u001b[0m\u001b[0;34m\u001b[0m\u001b[0;34m\u001b[0m\u001b[0m\n\u001b[0m\u001b[1;32m     42\u001b[0m \u001b[0mu_sampled_imgs\u001b[0m \u001b[0;34m=\u001b[0m \u001b[0munorm\u001b[0m\u001b[0;34m(\u001b[0m\u001b[0msampled_imgs\u001b[0m\u001b[0;34m[\u001b[0m\u001b[0midx\u001b[0m\u001b[0;34m]\u001b[0m\u001b[0;34m.\u001b[0m\u001b[0mtranspose\u001b[0m\u001b[0;34m(\u001b[0m\u001b[0;36m1\u001b[0m\u001b[0;34m,\u001b[0m\u001b[0;36m2\u001b[0m\u001b[0;34m)\u001b[0m\u001b[0;34m[\u001b[0m\u001b[0;36m0\u001b[0m\u001b[0;34m]\u001b[0m\u001b[0;34m)\u001b[0m\u001b[0;34m\u001b[0m\u001b[0;34m\u001b[0m\u001b[0m\n\u001b[1;32m     43\u001b[0m \u001b[0mgrid\u001b[0m \u001b[0;34m=\u001b[0m \u001b[0;34m[\u001b[0m\u001b[0mmake_grid\u001b[0m\u001b[0;34m(\u001b[0m\u001b[0mu_imgs\u001b[0m\u001b[0;34m.\u001b[0m\u001b[0mto\u001b[0m\u001b[0;34m(\u001b[0m\u001b[0mtorch\u001b[0m\u001b[0;34m.\u001b[0m\u001b[0muint8\u001b[0m\u001b[0;34m)\u001b[0m\u001b[0;34m,\u001b[0m \u001b[0;36m10\u001b[0m\u001b[0;34m)\u001b[0m\u001b[0;34m,\u001b[0m \u001b[0mmake_grid\u001b[0m\u001b[0;34m(\u001b[0m\u001b[0mu_sampled_imgs\u001b[0m\u001b[0;34m.\u001b[0m\u001b[0mto\u001b[0m\u001b[0;34m(\u001b[0m\u001b[0mtorch\u001b[0m\u001b[0;34m.\u001b[0m\u001b[0muint8\u001b[0m\u001b[0;34m)\u001b[0m\u001b[0;34m,\u001b[0m \u001b[0;36m2\u001b[0m\u001b[0;34m)\u001b[0m\u001b[0;34m]\u001b[0m\u001b[0;34m\u001b[0m\u001b[0;34m\u001b[0m\u001b[0m\n",
      "\u001b[0;32m/tmp/ipykernel_285329/738139643.py\u001b[0m in \u001b[0;36m__call__\u001b[0;34m(self, tensor)\u001b[0m\n\u001b[1;32m     20\u001b[0m         \"\"\"\n\u001b[1;32m     21\u001b[0m         \u001b[0mtensor\u001b[0m\u001b[0;34m=\u001b[0m\u001b[0mtensor\u001b[0m\u001b[0;34m.\u001b[0m\u001b[0mclone\u001b[0m\u001b[0;34m(\u001b[0m\u001b[0;34m)\u001b[0m\u001b[0;34m\u001b[0m\u001b[0;34m\u001b[0m\u001b[0m\n\u001b[0;32m---> 22\u001b[0;31m         \u001b[0mf\u001b[0m\u001b[0;34m,\u001b[0m \u001b[0mc\u001b[0m\u001b[0;34m,\u001b[0m \u001b[0mh\u001b[0m\u001b[0;34m,\u001b[0m \u001b[0mw\u001b[0m \u001b[0;34m=\u001b[0m \u001b[0mtensor\u001b[0m\u001b[0;34m.\u001b[0m\u001b[0mshape\u001b[0m\u001b[0;34m\u001b[0m\u001b[0;34m\u001b[0m\u001b[0m\n\u001b[0m\u001b[1;32m     23\u001b[0m         \u001b[0;32mfor\u001b[0m \u001b[0mimg\u001b[0m \u001b[0;32min\u001b[0m \u001b[0mtensor\u001b[0m\u001b[0;34m:\u001b[0m\u001b[0;34m\u001b[0m\u001b[0;34m\u001b[0m\u001b[0m\n\u001b[1;32m     24\u001b[0m             \u001b[0;32mfor\u001b[0m \u001b[0mt\u001b[0m\u001b[0;34m,\u001b[0m \u001b[0mm\u001b[0m\u001b[0;34m,\u001b[0m \u001b[0ms\u001b[0m \u001b[0;32min\u001b[0m \u001b[0mzip\u001b[0m\u001b[0;34m(\u001b[0m\u001b[0mimg\u001b[0m\u001b[0;34m,\u001b[0m \u001b[0mself\u001b[0m\u001b[0;34m.\u001b[0m\u001b[0mmean\u001b[0m\u001b[0;34m,\u001b[0m \u001b[0mself\u001b[0m\u001b[0;34m.\u001b[0m\u001b[0mstd\u001b[0m\u001b[0;34m)\u001b[0m\u001b[0;34m:\u001b[0m\u001b[0;34m\u001b[0m\u001b[0;34m\u001b[0m\u001b[0m\n",
      "\u001b[0;31mValueError\u001b[0m: too many values to unpack (expected 4)"
     ]
    }
   ],
   "source": [
    "from torchvision.utils import make_grid\n",
    "import matplotlib.pyplot as plt\n",
    "import numpy as np\n",
    "import torch\n",
    "from torchvision.transforms.functional import to_pil_image\n",
    "\n",
    "idx = torch.randint(0,50,[1,])\n",
    "\n",
    "class UnNormalize(object):\n",
    "    def __init__(self, mean, std):\n",
    "        self.mean = mean\n",
    "        self.std = std\n",
    "\n",
    "    def __call__(self, tensor):\n",
    "        \"\"\"\n",
    "        Args:\n",
    "            tensor (Tensor): Tensor image of size (C, H, W) to be normalized.\n",
    "        Returns:\n",
    "            Tensor: Normalized image.\n",
    "        \"\"\"\n",
    "        tensor=tensor.clone()\n",
    "        f, c, h, w = tensor.shape\n",
    "        for img in tensor:\n",
    "            for t, m, s in zip(img, self.mean, self.std):\n",
    "                t.mul_(s).add_(m)\n",
    "                # The normalize code -> t.sub_(m).div_(s)\n",
    "        return tensor\n",
    "\n",
    "    def show(imgs):\n",
    "        if not isinstance(imgs, list):\n",
    "            imgs = [imgs]\n",
    "        fix, axs = plt.subplots(nrows=len(imgs), squeeze=False, figsize=(40,14))\n",
    "        # plt.suptitle(f'Label - {label_map[label]}, Path - {path}',fontsize=20)\n",
    "        fix.tight_layout()\n",
    "        for i, img in enumerate(imgs):\n",
    "            img = img.detach()\n",
    "            img = to_pil_image(img)\n",
    "            axs[i, 0].imshow(np.asarray(img))\n",
    "            axs[i, 0].set(xticklabels=[], yticklabels=[], xticks=[], yticks=[])\n",
    "unorm = UnNormalize(mean=[123.675, 116.28, 103.53], std=[58.395, 57.12, 57.375])\n",
    "u_imgs = unorm(imgs[idx][0])\n",
    "u_sampled_imgs = unorm(sampled_imgs[idx].transpose(1,2)[0])\n",
    "grid = [make_grid(u_imgs.to(torch.uint8), 10), make_grid(u_sampled_imgs.to(torch.uint8), 2)]\n",
    "show(grid)"
   ]
  },
  {
   "cell_type": "code",
   "execution_count": 10,
   "metadata": {},
   "outputs": [
    {
     "data": {
      "text/plain": [
       "tensor([ 1.5257, -0.3109,  0.1788, -0.7290, -1.1499, -1.2177,  0.2845, -0.2046,\n",
       "         3.6867,  0.4259], device='cuda:0')"
      ]
     },
     "execution_count": 10,
     "metadata": {},
     "output_type": "execute_result"
    }
   ],
   "source": [
    "label_logits[0]"
   ]
  },
  {
   "cell_type": "code",
   "execution_count": 15,
   "metadata": {},
   "outputs": [
    {
     "data": {
      "text/plain": [
       "torch.Size([50, 10, 3, 224, 224])"
      ]
     },
     "execution_count": 15,
     "metadata": {},
     "output_type": "execute_result"
    }
   ],
   "source": [
    "imgs.shape"
   ]
  },
  {
   "cell_type": "code",
   "execution_count": 17,
   "metadata": {},
   "outputs": [
    {
     "data": {
      "text/plain": [
       "torch.Size([6, 3, 224, 224])"
      ]
     },
     "execution_count": 17,
     "metadata": {},
     "output_type": "execute_result"
    }
   ],
   "source": [
    "imgs[0][[0,2,6,7,8,9]].shape"
   ]
  },
  {
   "cell_type": "code",
   "execution_count": 24,
   "metadata": {},
   "outputs": [
    {
     "data": {
      "text/plain": [
       "tensor([0, 2, 6, 7, 8, 9], device='cuda:0')"
      ]
     },
     "execution_count": 24,
     "metadata": {},
     "output_type": "execute_result"
    }
   ],
   "source": [
    "max_idx[0]"
   ]
  },
  {
   "cell_type": "code",
   "execution_count": null,
   "metadata": {},
   "outputs": [],
   "source": [
    "a=imgs[0][[0,2,6,7,8,9]]\n",
    "b=sampled_imgs[0]"
   ]
  },
  {
   "cell_type": "code",
   "execution_count": null,
   "metadata": {},
   "outputs": [],
   "source": [
    "imgs = imgs.reshape(B * T, C, H, W) # B*T C H W\n",
    "x = model.extract_feat(imgs.unsqueeze(2))\n",
    "logits = model.cls_head(x) # B*T num_classes\n",
    "logits = logits.reshape(B, T, -1)\n",
    "label_logits = logits[range(B), :, labels.squeeze()]\n",
    "\n",
    "# max_idx = label_logits.topk(1, dim=1)[1].sort(dim=1,descending=False)[0]\n",
    "# batch_inds = torch.arange(B).unsqueeze(-1).expand_as(max_idx)\n",
    "# result = logits[batch_inds, max_idx].squeeze()\n",
    "\n",
    "max_idx = label_logits.max(-1)[1]\n",
    "result = logits[range(B), max_idx, :]\n",
    "\n",
    "result = result.detach().cpu().numpy()"
   ]
  },
  {
   "cell_type": "code",
   "execution_count": null,
   "metadata": {},
   "outputs": [],
   "source": []
  },
  {
   "cell_type": "code",
   "execution_count": 2,
   "metadata": {},
   "outputs": [],
   "source": [
    "idataloader = iter(data_loader)"
   ]
  },
  {
   "cell_type": "code",
   "execution_count": 3,
   "metadata": {},
   "outputs": [],
   "source": [
    "data = next(idataloader)\n",
    "# imgs, labels = data['imgs'], data['label'].squeeze()"
   ]
  },
  {
   "cell_type": "code",
   "execution_count": 55,
   "metadata": {},
   "outputs": [],
   "source": [
    "total_seg = 10\n",
    "perm_num = 2\n",
    "perms = list(combinations([i for i in range(total_seg)],perm_num))\n",
    "model.eval()\n",
    "with torch.no_grad():\n",
    "    imgs, labels = data['imgs'], data['label'].squeeze()\n",
    "    imgs, labels = imgs.cuda(), labels.cuda()\n",
    "    B, N, C, T, H, W = imgs.shape\n",
    "    perm_imgs = []\n",
    "    score = torch.zeros([B, total_seg]).cuda()\n",
    "    for perm in perms:\n",
    "        indice = torch.tensor([1 if i in perm else 0 for i in range(total_seg)]).bool()\n",
    "        perm_imgs.append(imgs[:,:,:,indice])\n",
    "    perm_imgs = torch.stack(perm_imgs, 1)\n",
    "    perm_imgs = rearrange(perm_imgs, 'b p n c t h w -> (b p n) c t h w')\n",
    "    x = model.extract_feat(perm_imgs)\n",
    "    logits = model.cls_head(x) # B*len(perms) num_classes\n",
    "    logits = rearrange(logits, '(b p) n -> b p n', b = B, p = len(perms)) # B len(perms) num_classes\n",
    "    label_logits = logits[range(B), :, labels.squeeze()]\n",
    "    total_score = label_logits.mean(-1)\n",
    "    for i in range(total_seg):\n",
    "        tmp = torch.zeros_like(total_score)\n",
    "        for j in range(len(perms)):\n",
    "            if i in perms[j]:\n",
    "                tmp += label_logits[:, j]\n",
    "        score[:, i] = total_score - tmp/9\n",
    "    max_idx = score.topk(6, dim=1)[1].sort(dim=1,descending=False)[0]\n",
    "    batch_inds = torch.arange(B).unsqueeze(-1).expand_as(max_idx)\n",
    "    imgs = rearrange(imgs, 'b n c t h w -> (b n) t c h w')\n",
    "    sampled_imgs = imgs[batch_inds, max_idx]\n",
    "    sampled_imgs = rearrange(sampled_imgs, 'b t c h w -> b c t h w')\n",
    "    fx = model.extract_feat(sampled_imgs)\n",
    "    flogits = model.cls_head(fx)\n",
    "    result = flogits.detach().cpu().numpy()"
   ]
  },
  {
   "cell_type": "code",
   "execution_count": 23,
   "metadata": {},
   "outputs": [
    {
     "data": {
      "text/plain": [
       "tensor([10.8736,  7.4793,  8.0049, 15.2361,  6.2707, 11.8610,  9.4330,  4.9589,\n",
       "         8.0566,  8.2250,  6.4955,  9.3159,  7.6948,  6.3771,  9.8631,  7.9948,\n",
       "         4.9741,  9.3425,  2.7163,  8.2024,  9.5474,  6.4704,  5.7176,  8.1301,\n",
       "         9.9383, 10.6796,  7.1633, 13.5326,  8.5640,  5.2459], device='cuda:0')"
      ]
     },
     "execution_count": 23,
     "metadata": {},
     "output_type": "execute_result"
    }
   ],
   "source": [
    "label_logits[:, 0]"
   ]
  },
  {
   "cell_type": "code",
   "execution_count": 24,
   "metadata": {},
   "outputs": [
    {
     "data": {
      "text/plain": [
       "tensor([ 0.1558, -0.1787, -0.0931, -0.0742, -2.2390,  0.8747, -0.6735, -0.3846,\n",
       "         0.7825,  1.8301], device='cuda:0')"
      ]
     },
     "execution_count": 24,
     "metadata": {},
     "output_type": "execute_result"
    }
   ],
   "source": [
    "score[0]"
   ]
  },
  {
   "cell_type": "code",
   "execution_count": 9,
   "metadata": {},
   "outputs": [
    {
     "data": {
      "text/plain": [
       "tensor(501.4761, device='cuda:0')"
      ]
     },
     "execution_count": 9,
     "metadata": {},
     "output_type": "execute_result"
    }
   ],
   "source": [
    "total_score[0]"
   ]
  },
  {
   "cell_type": "code",
   "execution_count": 12,
   "metadata": {},
   "outputs": [
    {
     "data": {
      "text/plain": [
       "tensor([10.8736, 11.0055,  9.7906, 13.9045, 10.5663, 12.1575, 12.1909,  9.7229,\n",
       "         8.6814, 11.1525, 12.1052, 12.8016, 10.3786, 12.4423, 11.3939, 10.1923,\n",
       "        10.5636, 11.0809, 14.0698, 10.6421, 12.2827, 11.3482, 10.3151,  9.2359,\n",
       "        14.1013, 10.9181, 12.0799, 11.4991, 10.1141,  9.2743, 12.1695, 14.9192,\n",
       "        14.7238, 12.9157, 10.8409,  9.5833, 10.3983,  9.5909,  8.1758, 12.2316,\n",
       "        11.2830,  9.3769, 10.7069,  9.2638,  8.4117], device='cuda:0')"
      ]
     },
     "execution_count": 12,
     "metadata": {},
     "output_type": "execute_result"
    }
   ],
   "source": [
    "label_logits[0]"
   ]
  },
  {
   "cell_type": "code",
   "execution_count": 5,
   "metadata": {},
   "outputs": [
    {
     "data": {
      "text/plain": [
       "array([[13.525547  ,  4.232628  ,  4.33488   , ..., -1.4578041 ,\n",
       "         1.1844931 ,  0.83911103],\n",
       "       [10.21198   ,  3.0332232 ,  3.4635575 , ..., -2.4009047 ,\n",
       "         4.6497517 ,  3.302033  ],\n",
       "       [ 9.506054  ,  0.9489721 ,  3.6970081 , ..., -2.774393  ,\n",
       "         3.4367907 , -2.002809  ],\n",
       "       ...,\n",
       "       [15.286939  ,  2.4639966 ,  3.686197  , ..., -1.7040263 ,\n",
       "         1.0236428 ,  1.0594429 ],\n",
       "       [ 9.659581  ,  3.1600344 ,  2.4629824 , ..., -2.1093814 ,\n",
       "         1.8079818 , -1.3402663 ],\n",
       "       [ 7.805283  ,  0.58568823,  4.3149834 , ..., -2.693321  ,\n",
       "         4.7270737 , -2.8046846 ]], dtype=float32)"
      ]
     },
     "execution_count": 5,
     "metadata": {},
     "output_type": "execute_result"
    }
   ],
   "source": [
    "result"
   ]
  },
  {
   "cell_type": "code",
   "execution_count": 6,
   "metadata": {},
   "outputs": [],
   "source": [
    "total_seg = 10\n",
    "perm_num = 2\n",
    "perms = list(combinations([i for i in range(total_seg)],perm_num))\n",
    "model.eval()\n",
    "with torch.no_grad():\n",
    "    imgs, labels = data['imgs'], data['label'].squeeze()\n",
    "    imgs, labels = imgs.cuda(), labels.cuda()\n",
    "    B, N, C, T, H, W = imgs.shape\n",
    "    perm_imgs = []\n",
    "    score = torch.zeros([B, total_seg]).cuda()\n",
    "    for perm in perms:\n",
    "        indice = torch.tensor([1 if i in perm else 0 for i in range(total_seg)]).bool()\n",
    "        perm_imgs.append(imgs[:,:,:,indice])\n",
    "    perm_imgs = torch.stack(perm_imgs, 0)\n",
    "    perm_imgs = rearrange(perm_imgs, 'p b n c t h w -> (p b n) c t h w')\n",
    "    x = model.extract_feat(perm_imgs)\n",
    "    logits = model.cls_head(x) # B*len(perms) num_classes\n",
    "    logits = rearrange(logits, '(b p) n -> b p n', b = B, p = len(perms)) # B len(perms) num_classes\n",
    "    label_logits = logits[range(B), :, labels.squeeze()]\n",
    "    for i in range(len(perms)):\n",
    "        for j in range(len(perms[i])):\n",
    "            score[:, perms[i][j]] += label_logits[:, i]\n",
    "    max_idx = score.topk(6, dim=1)[1].sort(dim=1,descending=False)[0]\n",
    "    batch_inds = torch.arange(B).unsqueeze(-1).expand_as(max_idx)\n",
    "    imgs = rearrange(imgs, 'b n c t h w -> (b n) t c h w')\n",
    "    sampled_imgs = imgs[batch_inds, max_idx]\n",
    "    sampled_imgs = rearrange(sampled_imgs, 'b t c h w -> b c t h w')\n",
    "    fx = model.extract_feat(sampled_imgs)\n",
    "    flogits = model.cls_head(fx)\n",
    "    result = flogits.detach().cpu().numpy()"
   ]
  },
  {
   "cell_type": "code",
   "execution_count": 7,
   "metadata": {},
   "outputs": [
    {
     "data": {
      "text/plain": [
       "array([[14.544764  ,  3.6215591 ,  2.983023  , ..., -1.4017637 ,\n",
       "         1.1687435 ,  0.04351258],\n",
       "       [ 8.651378  ,  3.79117   ,  2.1004863 , ..., -1.9918274 ,\n",
       "         4.472507  ,  1.4226387 ],\n",
       "       [ 9.058618  ,  1.2275242 ,  4.017436  , ..., -3.0507202 ,\n",
       "         3.2552104 , -1.4165667 ],\n",
       "       ...,\n",
       "       [ 9.602396  ,  1.543493  ,  2.7375624 , ...,  1.0918307 ,\n",
       "         3.256653  , -4.211716  ],\n",
       "       [-0.31665733,  0.25631097,  0.19727069, ..., -1.2034167 ,\n",
       "         4.004699  ,  1.7919914 ],\n",
       "       [ 7.5830936 , -0.1668594 ,  4.1315694 , ..., -2.8547604 ,\n",
       "        -0.32634628, -3.6885107 ]], dtype=float32)"
      ]
     },
     "execution_count": 7,
     "metadata": {},
     "output_type": "execute_result"
    }
   ],
   "source": [
    "result"
   ]
  }
 ],
 "metadata": {
  "kernelspec": {
   "display_name": "ocsampler",
   "language": "python",
   "name": "ocsampler"
  },
  "language_info": {
   "codemirror_mode": {
    "name": "ipython",
    "version": 3
   },
   "file_extension": ".py",
   "mimetype": "text/x-python",
   "name": "python",
   "nbconvert_exporter": "python",
   "pygments_lexer": "ipython3",
   "version": "3.7.12"
  },
  "vscode": {
   "interpreter": {
    "hash": "445f7cc94d7363448a34b99cd36c881b588cc1766009096df3118326895cf331"
   }
  }
 },
 "nbformat": 4,
 "nbformat_minor": 4
}
